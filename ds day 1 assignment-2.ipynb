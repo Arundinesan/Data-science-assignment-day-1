{
 "cells": [
  {
   "cell_type": "markdown",
   "metadata": {},
   "source": [
    "# day1 assignment"
   ]
  },
  {
   "cell_type": "markdown",
   "metadata": {},
   "source": [
    "# question 1 "
   ]
  },
  {
   "cell_type": "raw",
   "metadata": {},
   "source": [
    "# answer is rainbow"
   ]
  },
  {
   "cell_type": "markdown",
   "metadata": {},
   "source": [
    "# question 2"
   ]
  },
  {
   "cell_type": "code",
   "execution_count": 1,
   "metadata": {},
   "outputs": [
    {
     "name": "stdout",
     "output_type": "stream",
     "text": [
      "LETS UPGRADE\n"
     ]
    }
   ],
   "source": [
    "print(\"LETS UPGRADE\")"
   ]
  },
  {
   "cell_type": "markdown",
   "metadata": {},
   "source": [
    "# question 3"
   ]
  },
  {
   "cell_type": "code",
   "execution_count": 6,
   "metadata": {},
   "outputs": [
    {
     "name": "stdout",
     "output_type": "stream",
     "text": [
      "enter cost price20\n",
      "20\n",
      "enter selling price20\n",
      "20\n",
      "neither\n"
     ]
    }
   ],
   "source": [
    "costprice=int(input(\"enter cost price\"))\n",
    "print(costprice)\n",
    "sellingprice=int(input(\"enter selling price\"))\n",
    "print(sellingprice)\n",
    "if sellingprice>costprice:\n",
    "    print(\"profit\")\n",
    "elif sellingprice<costprice:\n",
    "    print(\"loss\")\n",
    "else:\n",
    "    print(\"neither\")"
   ]
  },
  {
   "cell_type": "code",
   "execution_count": 7,
   "metadata": {},
   "outputs": [
    {
     "name": "stdout",
     "output_type": "stream",
     "text": [
      "enter cost price20\n",
      "20\n",
      "enter selling price10\n",
      "10\n",
      "loss\n"
     ]
    }
   ],
   "source": [
    "costprice=int(input(\"enter cost price\"))\n",
    "print(costprice)\n",
    "sellingprice=int(input(\"enter selling price\"))\n",
    "print(sellingprice)\n",
    "if sellingprice>costprice:\n",
    "    print(\"profit\")\n",
    "elif sellingprice<costprice:\n",
    "    print(\"loss\")\n",
    "else:\n",
    "    print(\"neither\")\n",
    "    "
   ]
  },
  {
   "cell_type": "code",
   "execution_count": 8,
   "metadata": {},
   "outputs": [
    {
     "name": "stdout",
     "output_type": "stream",
     "text": [
      "enter cost price20\n",
      "20\n",
      "enter selling price30\n",
      "30\n",
      "profit\n"
     ]
    }
   ],
   "source": [
    "costprice=int(input(\"enter cost price\"))\n",
    "print(costprice)\n",
    "sellingprice=int(input(\"enter selling price\"))\n",
    "print(sellingprice)\n",
    "if sellingprice>costprice:\n",
    "    print(\"profit\")\n",
    "elif sellingprice<costprice:\n",
    "    print(\"loss\")\n",
    "else:\n",
    "    print(\"neither\")"
   ]
  },
  {
   "cell_type": "markdown",
   "metadata": {},
   "source": [
    "# question 4\n"
   ]
  },
  {
   "cell_type": "code",
   "execution_count": 1,
   "metadata": {},
   "outputs": [
    {
     "name": "stdout",
     "output_type": "stream",
     "text": [
      "12\n",
      "34\n",
      "profit\n"
     ]
    }
   ],
   "source": [
    "a=int(input())\n",
    "b=int(input())\n",
    "\n",
    "if a<b:\n",
    "    print(\"profit\")\n",
    "elif a>b:\n",
    "    print(\"loss\")\n",
    "else:\n",
    "    print(\"neither\")"
   ]
  },
  {
   "cell_type": "markdown",
   "metadata": {},
   "source": [
    "# QUESTION 5"
   ]
  },
  {
   "cell_type": "code",
   "execution_count": 4,
   "metadata": {},
   "outputs": [
    {
     "name": "stdout",
     "output_type": "stream",
     "text": [
      "20\n",
      "1600\n"
     ]
    }
   ],
   "source": [
    "print(int(input())*80)"
   ]
  },
  {
   "cell_type": "code",
   "execution_count": 2,
   "metadata": {},
   "outputs": [
    {
     "name": "stdout",
     "output_type": "stream",
     "text": [
      "enter indian rupee50\n",
      "indian rupee 50\n",
      "equalent euro 4000\n"
     ]
    }
   ],
   "source": [
    "Indian=int(input(\"enter indian rupee\"))\n",
    "print(\"indian rupee\",Indian)\n",
    "euro=Indian *80\n",
    "print(\"equalent euro\",euro)"
   ]
  },
  {
   "cell_type": "code",
   "execution_count": 3,
   "metadata": {},
   "outputs": [
    {
     "name": "stdout",
     "output_type": "stream",
     "text": [
      "enter indian rupee72\n",
      "indian rupee 72\n",
      "equalent euro 5760\n"
     ]
    }
   ],
   "source": [
    "Indian=int(input(\"enter indian rupee\"))\n",
    "print(\"indian rupee\",Indian)\n",
    "euro=Indian *80\n",
    "print(\"equalent euro\",euro)\n"
   ]
  },
  {
   "cell_type": "code",
   "execution_count": 4,
   "metadata": {},
   "outputs": [
    {
     "name": "stdout",
     "output_type": "stream",
     "text": [
      "enter indian rupee7\n",
      "indian rupee 7\n",
      "equalent euro 560\n"
     ]
    }
   ],
   "source": [
    "Indian=int(input(\"enter indian rupee\"))\n",
    "print(\"indian rupee\",Indian)\n",
    "euro=Indian *80\n",
    "print(\"equalent euro\",euro)"
   ]
  },
  {
   "cell_type": "code",
   "execution_count": null,
   "metadata": {},
   "outputs": [],
   "source": []
  }
 ],
 "metadata": {
  "kernelspec": {
   "display_name": "Python 3",
   "language": "python",
   "name": "python3"
  },
  "language_info": {
   "codemirror_mode": {
    "name": "ipython",
    "version": 3
   },
   "file_extension": ".py",
   "mimetype": "text/x-python",
   "name": "python",
   "nbconvert_exporter": "python",
   "pygments_lexer": "ipython3",
   "version": "3.7.6"
  }
 },
 "nbformat": 4,
 "nbformat_minor": 4
}
